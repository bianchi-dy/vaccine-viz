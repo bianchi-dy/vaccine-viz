{
 "cells": [
  {
   "cell_type": "code",
   "execution_count": 66,
   "metadata": {},
   "outputs": [],
   "source": [
    "import pandas as pd\n",
    "import datetime\n",
    "import numpy as np\n",
    "import ast"
   ]
  },
  {
   "cell_type": "code",
   "execution_count": 2,
   "metadata": {},
   "outputs": [
    {
     "name": "stderr",
     "output_type": "stream",
     "text": [
      "/anaconda3/lib/python3.7/site-packages/pandas/io/excel.py:329: FutureWarning: The `sheetname` keyword is deprecated, use `sheet_name` instead\n",
      "  **kwds)\n"
     ]
    }
   ],
   "source": [
    "file='measlescasesbycountrybymonth.xls'\n",
    "df_measles = pd.read_excel(file, sheetname='WEB')"
   ]
  },
  {
   "cell_type": "code",
   "execution_count": 7,
   "metadata": {},
   "outputs": [],
   "source": [
    "group_measles = df_measles.groupby(['Country'])"
   ]
  },
  {
   "cell_type": "code",
   "execution_count": 16,
   "metadata": {},
   "outputs": [
    {
     "data": {
      "text/plain": [
       "[(1, 'January'),\n",
       " (2, 'February'),\n",
       " (3, 'March'),\n",
       " (4, 'April'),\n",
       " (5, 'May'),\n",
       " (6, 'June'),\n",
       " (7, 'July'),\n",
       " (8, 'August'),\n",
       " (9, 'September'),\n",
       " (10, 'October'),\n",
       " (11, 'November'),\n",
       " (12, 'December')]"
      ]
     },
     "execution_count": 16,
     "metadata": {},
     "output_type": "execute_result"
    }
   ],
   "source": [
    "months = []\n",
    "for i in range(1,13):\n",
    "    months.append((i, datetime.date(2008, i, 1).strftime('%B')))\n",
    "months"
   ]
  },
  {
   "cell_type": "code",
   "execution_count": 18,
   "metadata": {},
   "outputs": [
    {
     "data": {
      "text/plain": [
       "array([2011, 2012, 2013, 2014, 2015, 2016, 2017, 2018, 2019, 2020])"
      ]
     },
     "execution_count": 18,
     "metadata": {},
     "output_type": "execute_result"
    }
   ],
   "source": [
    "df_measles['Year'].unique()"
   ]
  },
  {
   "cell_type": "code",
   "execution_count": 23,
   "metadata": {},
   "outputs": [
    {
     "data": {
      "text/plain": [
       "0         192.0\n",
       "1        4470.0\n",
       "2        6564.0\n",
       "3       12002.0\n",
       "4         103.0\n",
       "5          51.0\n",
       "6          27.0\n",
       "7          57.0\n",
       "8        2981.0\n",
       "9          72.0\n",
       "10         63.0\n",
       "11         48.0\n",
       "12          0.0\n",
       "13          8.0\n",
       "14          7.0\n",
       "15         16.0\n",
       "16         18.0\n",
       "17         10.0\n",
       "18         50.0\n",
       "19         28.0\n",
       "20        423.0\n",
       "21        285.0\n",
       "22        757.0\n",
       "23        761.0\n",
       "24         53.0\n",
       "25         98.0\n",
       "26        192.0\n",
       "27        886.0\n",
       "28        483.0\n",
       "29         22.0\n",
       "         ...   \n",
       "1910      747.0\n",
       "1911      657.0\n",
       "1912     1309.0\n",
       "1913    16602.0\n",
       "1914      840.0\n",
       "1915      510.0\n",
       "1916      591.0\n",
       "1917     2755.0\n",
       "1918    10450.0\n",
       "1919      344.0\n",
       "1920        0.0\n",
       "1921        0.0\n",
       "1922        0.0\n",
       "1923        5.0\n",
       "1924       19.0\n",
       "1925        0.0\n",
       "1926        0.0\n",
       "1927        0.0\n",
       "1928        0.0\n",
       "1929        0.0\n",
       "1930        0.0\n",
       "1931        0.0\n",
       "1932        0.0\n",
       "1933        0.0\n",
       "1934        0.0\n",
       "1935        0.0\n",
       "1936        0.0\n",
       "1937        1.0\n",
       "1938      883.0\n",
       "1939        0.0\n",
       "Name: year_total, Length: 1940, dtype: float64"
      ]
     },
     "execution_count": 23,
     "metadata": {},
     "output_type": "execute_result"
    }
   ],
   "source": [
    "months_only = [get[1] for get in months]\n",
    "\n",
    "def sumUp(row):\n",
    "    total = 0\n",
    "    for month in months_only:\n",
    "        if np.isnan(row[month]) == False:\n",
    "            total += row[month]\n",
    "            \n",
    "    return total\n",
    "\n",
    "df_measles['year_total'] = df_measles.apply(lambda row: sumUp(row), axis=1)\n",
    "df_measles['year_total']"
   ]
  },
  {
   "cell_type": "code",
   "execution_count": 26,
   "metadata": {},
   "outputs": [],
   "source": [
    "df_yearly = df_measles.groupby('Year').sum()"
   ]
  },
  {
   "cell_type": "code",
   "execution_count": 69,
   "metadata": {},
   "outputs": [],
   "source": [
    "df_yearly.to_csv('processed_measles_2011_on.csv')"
   ]
  },
  {
   "cell_type": "code",
   "execution_count": 70,
   "metadata": {},
   "outputs": [
    {
     "name": "stderr",
     "output_type": "stream",
     "text": [
      "/anaconda3/lib/python3.7/site-packages/pandas/io/excel.py:329: FutureWarning: The `sheetname` keyword is deprecated, use `sheet_name` instead\n",
      "  **kwds)\n"
     ]
    }
   ],
   "source": [
    "file='data.xlsx'\n",
    "df_full_measles = pd.read_excel(file, sheetname='Sheet1')"
   ]
  },
  {
   "cell_type": "code",
   "execution_count": 71,
   "metadata": {},
   "outputs": [],
   "source": [
    "df_full_measles = df_full_measles.drop([0,1])\n",
    "df_full_measles = df_full_measles.rename(columns={ 'Unnamed: 1': 'measles', 'Unnamed: 2': 'year', 'Unnamed: 3': 'count'})\n",
    "# df_full_measles.groupby('year').sum()"
   ]
  },
  {
   "cell_type": "code",
   "execution_count": 72,
   "metadata": {},
   "outputs": [],
   "source": [
    "df_full_measles['count'] = df_full_measles.apply(lambda row: ast.literal_eval(row['count']), axis = 1)\n",
    "df_yearly_full = df_full_measles.groupby('year').sum()\n",
    "df_yearly_full.to_csv('processed_measles_1974_on.csv')"
   ]
  },
  {
   "cell_type": "code",
   "execution_count": null,
   "metadata": {},
   "outputs": [],
   "source": []
  }
 ],
 "metadata": {
  "kernelspec": {
   "display_name": "Python 3",
   "language": "python",
   "name": "python3"
  },
  "language_info": {
   "codemirror_mode": {
    "name": "ipython",
    "version": 3
   },
   "file_extension": ".py",
   "mimetype": "text/x-python",
   "name": "python",
   "nbconvert_exporter": "python",
   "pygments_lexer": "ipython3",
   "version": "3.7.3"
  }
 },
 "nbformat": 4,
 "nbformat_minor": 2
}
