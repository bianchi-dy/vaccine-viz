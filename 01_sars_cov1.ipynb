{
 "cells": [
  {
   "cell_type": "code",
   "execution_count": 5,
   "metadata": {},
   "outputs": [],
   "source": [
    "import pandas as pd\n",
    "import numpy as np\n",
    "import ast \n",
    "import datetime"
   ]
  },
  {
   "cell_type": "code",
   "execution_count": 11,
   "metadata": {},
   "outputs": [
    {
     "data": {
      "text/html": [
       "<div>\n",
       "<style scoped>\n",
       "    .dataframe tbody tr th:only-of-type {\n",
       "        vertical-align: middle;\n",
       "    }\n",
       "\n",
       "    .dataframe tbody tr th {\n",
       "        vertical-align: top;\n",
       "    }\n",
       "\n",
       "    .dataframe thead th {\n",
       "        text-align: right;\n",
       "    }\n",
       "</style>\n",
       "<table border=\"1\" class=\"dataframe\">\n",
       "  <thead>\n",
       "    <tr style=\"text-align: right;\">\n",
       "      <th></th>\n",
       "      <th>Cumulative number of case(s)</th>\n",
       "      <th>Number of deaths</th>\n",
       "      <th>Number recovered</th>\n",
       "      <th>day</th>\n",
       "      <th>month</th>\n",
       "    </tr>\n",
       "    <tr>\n",
       "      <th>year</th>\n",
       "      <th></th>\n",
       "      <th></th>\n",
       "      <th></th>\n",
       "      <th></th>\n",
       "      <th></th>\n",
       "    </tr>\n",
       "  </thead>\n",
       "  <tbody>\n",
       "    <tr>\n",
       "      <th>2003</th>\n",
       "      <td>556360</td>\n",
       "      <td>45209</td>\n",
       "      <td>341814</td>\n",
       "      <td>39467</td>\n",
       "      <td>12946</td>\n",
       "    </tr>\n",
       "  </tbody>\n",
       "</table>\n",
       "</div>"
      ],
      "text/plain": [
       "      Cumulative number of case(s)  Number of deaths  Number recovered    day  \\\n",
       "year                                                                            \n",
       "2003                        556360             45209            341814  39467   \n",
       "\n",
       "      month  \n",
       "year         \n",
       "2003  12946  "
      ]
     },
     "execution_count": 11,
     "metadata": {},
     "output_type": "execute_result"
    }
   ],
   "source": [
    "file='sars_2003_complete.csv'\n",
    "df_sars = pd.read_csv(file)\n",
    "# datetime.strptime('Jun 1 2005  1:33PM', '%b %d %Y %I:%M%p')\n",
    "df_sars['Date'] # = df_sars.apply(lambda row: datetime.strptime(row['DATE'], '%d/%m/%y'), axis=1)\n",
    "df_sars['day'] = df_sars.apply(lambda row: int(row['Date'].split('/')[0]), axis =1)\n",
    "df_sars['month'] = df_sars.apply(lambda row: int(row['Date'].split('/')[1]), axis =1)\n",
    "df_sars['year'] = df_sars.apply(lambda row: int(row['Date'].split('/')[2])+2000, axis =1)\n",
    "df_sars.groupby(['year']).sum()"
   ]
  },
  {
   "cell_type": "code",
   "execution_count": null,
   "metadata": {},
   "outputs": [],
   "source": []
  }
 ],
 "metadata": {
  "kernelspec": {
   "display_name": "Python 3",
   "language": "python",
   "name": "python3"
  },
  "language_info": {
   "codemirror_mode": {
    "name": "ipython",
    "version": 3
   },
   "file_extension": ".py",
   "mimetype": "text/x-python",
   "name": "python",
   "nbconvert_exporter": "python",
   "pygments_lexer": "ipython3",
   "version": "3.7.3"
  }
 },
 "nbformat": 4,
 "nbformat_minor": 2
}
